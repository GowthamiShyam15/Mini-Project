{
 "cells": [
  {
   "cell_type": "markdown",
   "id": "62b522c9",
   "metadata": {},
   "source": [
    "# Mini Project"
   ]
  },
  {
   "cell_type": "markdown",
   "id": "f299490b",
   "metadata": {},
   "source": [
    "user(Rock)-computer(Scissor) -> User win\n",
    "\n",
    "user(Paper)-computer(Rock) -> User win\n",
    "\n",
    "user(Scissor)-computer(Paper) -> User Win"
   ]
  },
  {
   "cell_type": "code",
   "execution_count": 3,
   "id": "716b8d2c",
   "metadata": {},
   "outputs": [
    {
     "name": "stdout",
     "output_type": "stream",
     "text": [
      "enter your choice['rock','scissor','paper']:scissor\n",
      "\n",
      "User Choice is scissor and Computer Choice is rock\n",
      "\n",
      "Computer Won th Game\n"
     ]
    }
   ],
   "source": [
    "import random\n",
    "\n",
    "l = [\"rock\",\"scissor\",\"paper\"]\n",
    "user_choice = input(\"enter your choice['rock','scissor','paper']:\")\n",
    "computer_choice = random.choice(l)\n",
    "print(f\"\\nUser Choice is {user_choice} and Computer Choice is {computer_choice}\")\n",
    "\n",
    "if user_choice == computer_choice:\n",
    "        print(\"\\nGame is TIED....\")     \n",
    "else:\n",
    "    if user_choice == \"rock\":\n",
    "        if computer_choice == \"scissor\": #rock ,paper\n",
    "            print(\"\\nUser Won the Game\")\n",
    "        else:\n",
    "            print(\"\\nComputer Won th Game\")\n",
    "    elif user_choice == \"paper\":\n",
    "        if computer_choice == \"rock\": #paper,scissor\n",
    "            print(\"\\nUser Won the Game\")\n",
    "        else:\n",
    "            print(\"\\nComputer Won th Game\")\n",
    "    elif user_choice == \"scissor\":\n",
    "        if computer_choice == \"paper\": #scissor,rock\n",
    "            print(\"\\nUser Won the Game\")\n",
    "        else:\n",
    "            print(\"\\nComputer Won th Game\")"
   ]
  },
  {
   "cell_type": "code",
   "execution_count": null,
   "id": "436de535",
   "metadata": {},
   "outputs": [],
   "source": []
  }
 ],
 "metadata": {
  "kernelspec": {
   "display_name": "Python 3 (ipykernel)",
   "language": "python",
   "name": "python3"
  },
  "language_info": {
   "codemirror_mode": {
    "name": "ipython",
    "version": 3
   },
   "file_extension": ".py",
   "mimetype": "text/x-python",
   "name": "python",
   "nbconvert_exporter": "python",
   "pygments_lexer": "ipython3",
   "version": "3.10.4"
  }
 },
 "nbformat": 4,
 "nbformat_minor": 5
}
